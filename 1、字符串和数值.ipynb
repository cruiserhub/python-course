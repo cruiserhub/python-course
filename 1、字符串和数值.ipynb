{
 "cells": [
  {
   "cell_type": "markdown",
   "metadata": {},
   "source": [
    "# 字符串和数值"
   ]
  },
  {
   "cell_type": "code",
   "execution_count": null,
   "metadata": {
    "collapsed": true
   },
   "outputs": [],
   "source": [
    "python是一门简单但强大的编程语言。\n",
    "\n",
    "简单是指python的语言简单、可读性好。接近我们的自然语言，什么叫自然语言，就是我们平时说的语言，像汉语、英语都是，人类使用的语言都是自然语言\n",
    "强大是指python可以做很多事情，尤其擅长数据处理和机器学习\n",
    "\n",
    "从今天开始，我带领大家学习python基础，后面还会带领大家做一些爬虫、数据处理等的实践项目\n",
    "\n",
    "我的课程跟其他老师的不太一样，我不是按照python基础教程一样，按照知识点一步一步来\n",
    "我是把知识点进行了打乱，由具体一个个小的需求带领大家去理解编程，然后在每个代码实现上把涉及到的知识点在详细呈现给大家。"
   ]
  },
  {
   "cell_type": "markdown",
   "metadata": {},
   "source": [
    "### print 函数"
   ]
  },
  {
   "cell_type": "markdown",
   "metadata": {},
   "source": [
    "#### 打印 hello world"
   ]
  },
  {
   "cell_type": "code",
   "execution_count": null,
   "metadata": {
    "collapsed": true
   },
   "outputs": [],
   "source": [
    "如果大家有过其他编程语言的经历，那么你可能知道，在学习一门编程语言的时候，往往第一行要学习的代码，就是：打印 hello world。\n",
    "这几乎成为了一个传统，在这里，我们也不免俗，我们也从：打印 hello world开始\n",
    "在python3中，打印语句是print，后面跟一个小括号，括号中就是我们要打印的内容\n",
    "那么 打印 hello world，python的写法就是"
   ]
  },
  {
   "cell_type": "code",
   "execution_count": 14,
   "metadata": {
    "collapsed": false
   },
   "outputs": [
    {
     "name": "stdout",
     "output_type": "stream",
     "text": [
      "hello world\n"
     ]
    }
   ],
   "source": [
    "print('hello world')"
   ]
  },
  {
   "cell_type": "code",
   "execution_count": null,
   "metadata": {
    "collapsed": true
   },
   "outputs": [],
   "source": [
    "这里需要注意的地方是，hello world 我们使用了单引号进行包裹，在python中使用引号包裹的都称之为字符串，无论是单引号还是双引号\n",
    "在这里单引号和双引号是等效的，比如"
   ]
  },
  {
   "cell_type": "code",
   "execution_count": null,
   "metadata": {
    "collapsed": true
   },
   "outputs": [],
   "source": [
    "print(\"hello world\")"
   ]
  },
  {
   "cell_type": "code",
   "execution_count": null,
   "metadata": {
    "collapsed": true
   },
   "outputs": [],
   "source": [
    "输出结果是一样的\n",
    "\n",
    "在这里，print是一个函数，但这里我们不提函数的概念，因为print函数使用简单，我们只要知道怎么使用就可以了\n",
    "大家记得，print是我们学习的第一个函数，后面还会有很多"
   ]
  },
  {
   "cell_type": "markdown",
   "metadata": {},
   "source": [
    "#### 打印名字和年龄"
   ]
  },
  {
   "cell_type": "code",
   "execution_count": 16,
   "metadata": {
    "collapsed": false,
    "scrolled": true
   },
   "outputs": [
    {
     "name": "stdout",
     "output_type": "stream",
     "text": [
      "drama\n"
     ]
    }
   ],
   "source": [
    "print('drama')"
   ]
  },
  {
   "cell_type": "code",
   "execution_count": null,
   "metadata": {
    "collapsed": true
   },
   "outputs": [],
   "source": [
    "无论是 hello world，还是名字，都是字符串，写法都是一样的，使用引号\n",
    "那么数字呢，我们要打印数字怎么写呢？python的写法是这样的"
   ]
  },
  {
   "cell_type": "code",
   "execution_count": 21,
   "metadata": {
    "collapsed": false
   },
   "outputs": [
    {
     "name": "stdout",
     "output_type": "stream",
     "text": [
      "18\n"
     ]
    }
   ],
   "source": [
    "print(18)"
   ]
  },
  {
   "cell_type": "code",
   "execution_count": null,
   "metadata": {
    "collapsed": true
   },
   "outputs": [],
   "source": [
    "数字的话，两边就不用加引号了"
   ]
  },
  {
   "cell_type": "markdown",
   "metadata": {},
   "source": [
    "### 变量"
   ]
  },
  {
   "cell_type": "markdown",
   "metadata": {},
   "source": [
    "#### 保存 姓名 和 年龄 到变量"
   ]
  },
  {
   "cell_type": "code",
   "execution_count": null,
   "metadata": {
    "collapsed": true
   },
   "outputs": [],
   "source": [
    "一般情况下，一个字符串或者数字是有特定意义的，比如上面我们打印的18是指我的年龄，但是上面的代码体现不出18是指年龄\n",
    "怎么办呢？在python中我们可以给值(字符串、数字等)取一个名字，比如："
   ]
  },
  {
   "cell_type": "code",
   "execution_count": 1,
   "metadata": {
    "collapsed": false
   },
   "outputs": [
    {
     "name": "stdout",
     "output_type": "stream",
     "text": [
      "18\n"
     ]
    }
   ],
   "source": [
    "age = 18\n",
    "print(age)"
   ]
  },
  {
   "cell_type": "code",
   "execution_count": null,
   "metadata": {
    "collapsed": true
   },
   "outputs": [],
   "source": [
    "有了age这个名字之后，我们就可以重复使用了\n",
    "而age这个名字，在编程中，就是变量 - 一个可变值得名字"
   ]
  },
  {
   "cell_type": "markdown",
   "metadata": {},
   "source": [
    "#### 变量命名"
   ]
  },
  {
   "cell_type": "code",
   "execution_count": null,
   "metadata": {
    "collapsed": true
   },
   "outputs": [],
   "source": [
    "提到变量，我们就不得不提变量的命名，跟人名一样，编程中变量命名也要复合一些规范"
   ]
  },
  {
   "cell_type": "markdown",
   "metadata": {},
   "source": [
    "    1、标识符的第一个字符必须是字母表中的字母(大写或小写)或者一个下划线\n",
    "    2、标识符名称的其他部分可以由字母(大写或小写)、下划线(‘_’)或数字(0-9)组成。\n",
    "    3、标识符名称是对大小写敏感的。\n",
    "    \n",
    "    - 1、不要使用单字符\n",
    "    - 2、变量名能清晰表达变量的意思\n",
    "    - 3、合理使用字母中间下划线"
   ]
  },
  {
   "cell_type": "code",
   "execution_count": 4,
   "metadata": {
    "collapsed": true
   },
   "outputs": [],
   "source": [
    "name = 'drama'\n",
    "age = 18"
   ]
  },
  {
   "cell_type": "markdown",
   "metadata": {},
   "source": [
    "#### 变量类型"
   ]
  },
  {
   "cell_type": "code",
   "execution_count": null,
   "metadata": {
    "collapsed": true
   },
   "outputs": [],
   "source": [
    "上面提到了两种变量类型，一种是字符串类型，一种是数值类型\n",
    "其实数值类型又分为 int型（整数）、float型（浮点数）、 complex型（复数）\n",
    "复数我们几乎使用不到，今天的课程，我们主要了解字符串、int型和float型就可以了"
   ]
  },
  {
   "cell_type": "code",
   "execution_count": 55,
   "metadata": {
    "collapsed": false
   },
   "outputs": [
    {
     "data": {
      "text/plain": [
       "complex"
      ]
     },
     "execution_count": 55,
     "metadata": {},
     "output_type": "execute_result"
    }
   ],
   "source": [
    "type(100 + 23j)"
   ]
  },
  {
   "cell_type": "markdown",
   "metadata": {},
   "source": [
    "### type 函数"
   ]
  },
  {
   "cell_type": "code",
   "execution_count": null,
   "metadata": {
    "collapsed": true
   },
   "outputs": [],
   "source": [
    "在这里name是一个字符串，age是数字，我们可以通过一个函数，来查看变量的类型："
   ]
  },
  {
   "cell_type": "code",
   "execution_count": 5,
   "metadata": {
    "collapsed": false
   },
   "outputs": [
    {
     "data": {
      "text/plain": [
       "str"
      ]
     },
     "execution_count": 5,
     "metadata": {},
     "output_type": "execute_result"
    }
   ],
   "source": [
    "type(name)"
   ]
  },
  {
   "cell_type": "code",
   "execution_count": 6,
   "metadata": {
    "collapsed": false
   },
   "outputs": [
    {
     "data": {
      "text/plain": [
       "int"
      ]
     },
     "execution_count": 6,
     "metadata": {},
     "output_type": "execute_result"
    }
   ],
   "source": [
    "type(age)"
   ]
  },
  {
   "cell_type": "code",
   "execution_count": null,
   "metadata": {
    "collapsed": true
   },
   "outputs": [],
   "source": [
    "str 就代表是字符串，int 代表是整型，以后如果我们想看一个变量的类型，我们就可以使用 type 函数\n",
    "type 函数是我们学到的第二个函数\n",
    "\n",
    "在这里提一点，python是一种动态类型语言，怎么理解呢，比如："
   ]
  },
  {
   "cell_type": "code",
   "execution_count": 58,
   "metadata": {
    "collapsed": false
   },
   "outputs": [
    {
     "name": "stdout",
     "output_type": "stream",
     "text": [
      "<class 'str'>\n",
      "<class 'int'>\n"
     ]
    }
   ],
   "source": [
    "value = 'hello world'\n",
    "print(type(value))\n",
    "value = 20\n",
    "print(type(value))"
   ]
  },
  {
   "cell_type": "code",
   "execution_count": null,
   "metadata": {
    "collapsed": true
   },
   "outputs": [],
   "source": [
    "通过上面的代码我们可以看到，变量类型发生了变化，而变量是什么类型，取决于变量实际的值"
   ]
  },
  {
   "cell_type": "markdown",
   "metadata": {},
   "source": [
    "### input 函数"
   ]
  },
  {
   "cell_type": "code",
   "execution_count": null,
   "metadata": {
    "collapsed": true
   },
   "outputs": [],
   "source": [
    "知道了变量的概念之后，来看我们要学习的第二个函数 input 函数，他的使用同样非常简单："
   ]
  },
  {
   "cell_type": "code",
   "execution_count": 7,
   "metadata": {
    "collapsed": false
   },
   "outputs": [
    {
     "name": "stdout",
     "output_type": "stream",
     "text": [
      "drama\n"
     ]
    }
   ],
   "source": [
    "name = input()"
   ]
  },
  {
   "cell_type": "code",
   "execution_count": null,
   "metadata": {
    "collapsed": true
   },
   "outputs": [],
   "source": [
    "这里执行之后，可以允许我们输入一个值给变量赋值\n",
    "有了 input 函数之后，我们就可以做一些有意思的可交互的事情，后面这个函数我们会经常遇到\n",
    "input 是我们学到的第三个函数"
   ]
  },
  {
   "cell_type": "markdown",
   "metadata": {},
   "source": [
    "### 字符串类型"
   ]
  },
  {
   "cell_type": "code",
   "execution_count": null,
   "metadata": {
    "collapsed": true
   },
   "outputs": [],
   "source": [
    "我们认识了字符串，也学习了三个函数，下面我们来看一下字符串相关的函数\n",
    "字符串是python中的内置类型，已经实现了字符串的相关操作，我们来看一下这些字符串函数如何使用？"
   ]
  },
  {
   "cell_type": "code",
   "execution_count": null,
   "metadata": {
    "collapsed": true
   },
   "outputs": [],
   "source": [
    "name = 'drama'"
   ]
  },
  {
   "cell_type": "code",
   "execution_count": null,
   "metadata": {
    "collapsed": true
   },
   "outputs": [],
   "source": [
    "比如这里name是一个字符串变量，我们可以使用 name dot 然后tab键，就可以看到我们这个变量可以使用的字符串函数了"
   ]
  },
  {
   "cell_type": "code",
   "execution_count": 11,
   "metadata": {
    "collapsed": false,
    "scrolled": true
   },
   "outputs": [
    {
     "name": "stdout",
     "output_type": "stream",
     "text": [
      "DRAMA\n",
      "drama\n",
      "Drama\n",
      "Drama\n",
      "Hello World\n",
      "Hello world\n"
     ]
    }
   ],
   "source": [
    "# 全部转化为大写字母\n",
    "print(name.upper())\n",
    "\n",
    "# 全部转化为小写字母\n",
    "print(name.lower())\n",
    "\n",
    "# 首字母大写\n",
    "# 在单个字母的情况下，两者并没有区别，多个字母的时候就会有区别了\n",
    "print(name.title())\n",
    "print(name.capitalize())\n",
    "\n",
    "words = 'hello world'\n",
    "print(words.title())\n",
    "print(words.capitalize())"
   ]
  },
  {
   "cell_type": "markdown",
   "metadata": {},
   "source": [
    "#### format 函数"
   ]
  },
  {
   "cell_type": "code",
   "execution_count": null,
   "metadata": {
    "collapsed": true
   },
   "outputs": [],
   "source": [
    "其他的的函数我们不一一试了，课后可以去尝试\n",
    "这里着重一个函数，format函数，因为我们以后会经常用到\n",
    "\n",
    "很多情况下，我们知道了一个变量，需要打印出来，但是在打印的时候往往会有上下文\n",
    "比如我知道 name 这个变量，而要输出 \"I'm ##\" 这样的形式，这中情况下我们就会用到 fromat 函数"
   ]
  },
  {
   "cell_type": "code",
   "execution_count": 40,
   "metadata": {
    "collapsed": false
   },
   "outputs": [
    {
     "data": {
      "text/plain": [
       "\"I'm drama\""
      ]
     },
     "execution_count": 40,
     "metadata": {},
     "output_type": "execute_result"
    }
   ],
   "source": [
    "# 首先我们可以把要打印的上下文叫做模板，我们用一个变量来保存这个模板\n",
    "template = \"I'm {}\"\n",
    "# 需要动态输入的地方我们用一个 {} 来占位\n",
    "# 之后我们就可以使用format函数了\n",
    "template.format(name)"
   ]
  },
  {
   "cell_type": "code",
   "execution_count": 41,
   "metadata": {
    "collapsed": false
   },
   "outputs": [
    {
     "data": {
      "text/plain": [
       "\"I'm drama\""
      ]
     },
     "execution_count": 41,
     "metadata": {},
     "output_type": "execute_result"
    }
   ],
   "source": [
    "\"I'm {}\".format(name)"
   ]
  },
  {
   "cell_type": "code",
   "execution_count": null,
   "metadata": {
    "collapsed": true
   },
   "outputs": [],
   "source": [
    "关于 format 这个函数，可以有很多变化的玩法"
   ]
  },
  {
   "cell_type": "code",
   "execution_count": 42,
   "metadata": {
    "collapsed": false
   },
   "outputs": [
    {
     "data": {
      "text/plain": [
       "\"I'm drama, I'm 18 years old.\""
      ]
     },
     "execution_count": 42,
     "metadata": {},
     "output_type": "execute_result"
    }
   ],
   "source": [
    "\"I'm {}, I'm {} years old.\".format(name, age)"
   ]
  },
  {
   "cell_type": "code",
   "execution_count": 60,
   "metadata": {
    "collapsed": false
   },
   "outputs": [
    {
     "data": {
      "text/plain": [
       "\"I'm drama, I'm 30 years old.\""
      ]
     },
     "execution_count": 60,
     "metadata": {},
     "output_type": "execute_result"
    }
   ],
   "source": [
    "\"I'm {name}, I'm {age} years old.\".format(name=name, age=age)"
   ]
  },
  {
   "cell_type": "code",
   "execution_count": 61,
   "metadata": {
    "collapsed": false
   },
   "outputs": [
    {
     "data": {
      "text/plain": [
       "\"I'm drama, I'm 30 years old.\""
      ]
     },
     "execution_count": 61,
     "metadata": {},
     "output_type": "execute_result"
    }
   ],
   "source": [
    "\"I'm {name}, I'm {age} years old.\".format(age=age, name=name)"
   ]
  },
  {
   "cell_type": "markdown",
   "metadata": {},
   "source": [
    "#### len 函数"
   ]
  },
  {
   "cell_type": "code",
   "execution_count": null,
   "metadata": {
    "collapsed": true
   },
   "outputs": [],
   "source": [
    "查看字符串的长度"
   ]
  },
  {
   "cell_type": "code",
   "execution_count": 65,
   "metadata": {
    "collapsed": false
   },
   "outputs": [
    {
     "data": {
      "text/plain": [
       "8"
      ]
     },
     "execution_count": 65,
     "metadata": {},
     "output_type": "execute_result"
    }
   ],
   "source": [
    "value = 'bilibili'\n",
    "len(value)"
   ]
  },
  {
   "cell_type": "markdown",
   "metadata": {},
   "source": [
    "#### 索引和切片"
   ]
  },
  {
   "cell_type": "code",
   "execution_count": null,
   "metadata": {
    "collapsed": true
   },
   "outputs": [],
   "source": [
    "截取字符串中的一部分"
   ]
  },
  {
   "cell_type": "code",
   "execution_count": 68,
   "metadata": {
    "collapsed": false
   },
   "outputs": [
    {
     "data": {
      "text/plain": [
       "'blb'"
      ]
     },
     "execution_count": 68,
     "metadata": {},
     "output_type": "execute_result"
    }
   ],
   "source": [
    "value = 'bilibili'\n",
    "value[0:6:2]"
   ]
  },
  {
   "cell_type": "code",
   "execution_count": 76,
   "metadata": {
    "collapsed": false
   },
   "outputs": [
    {
     "data": {
      "text/plain": [
       "'ibilib'"
      ]
     },
     "execution_count": 76,
     "metadata": {},
     "output_type": "execute_result"
    }
   ],
   "source": [
    "value[-3::-1]"
   ]
  },
  {
   "cell_type": "markdown",
   "metadata": {},
   "source": [
    "#### 三引号"
   ]
  },
  {
   "cell_type": "code",
   "execution_count": 50,
   "metadata": {
    "collapsed": false,
    "scrolled": true
   },
   "outputs": [
    {
     "name": "stdout",
     "output_type": "stream",
     "text": [
      "\n",
      "    My name is drama. \n",
      "    I'm 30 years old.\n",
      "    \n"
     ]
    }
   ],
   "source": [
    "# 打印带有一定格式的字符串\n",
    "\n",
    "name = 'drama'\n",
    "age = 30\n",
    "template = \"\"\"\n",
    "    My name is {}. \n",
    "    I'm {} years old.\n",
    "    \"\"\"\n",
    "print(template.format(name, age))"
   ]
  },
  {
   "cell_type": "markdown",
   "metadata": {},
   "source": [
    "### 数值类型"
   ]
  },
  {
   "cell_type": "markdown",
   "metadata": {},
   "source": [
    "#### 常规数学运算"
   ]
  },
  {
   "cell_type": "code",
   "execution_count": null,
   "metadata": {
    "collapsed": true
   },
   "outputs": [],
   "source": [
    "上面我们提到数值类型，我们经常使用的整型和浮点型，python已经实现了绝大多数数值计算函数，下面我们一一来看一下："
   ]
  },
  {
   "cell_type": "code",
   "execution_count": 80,
   "metadata": {
    "collapsed": false,
    "scrolled": true
   },
   "outputs": [
    {
     "name": "stdout",
     "output_type": "stream",
     "text": [
      "x + y = 103\n",
      "x - y = 97\n",
      "x * y = 300\n",
      "x / y = 33.333333333333336\n",
      "x // y = 33\n",
      "x ** y = 1000000\n"
     ]
    }
   ],
   "source": [
    "x, y = 100, 3\n",
    "print('x + y = {}'.format(x+y))\n",
    "print('x - y = {}'.format(x-y))\n",
    "print('x * y = {}'.format(x*y))\n",
    "print('x / y = {}'.format(x/y))\n",
    "print('x // y = {}'.format(x//y))    # 此处为向下取整\n",
    "print('x ** y = {}'.format(x**y))"
   ]
  },
  {
   "cell_type": "markdown",
   "metadata": {},
   "source": [
    "#### math 模块"
   ]
  },
  {
   "cell_type": "code",
   "execution_count": null,
   "metadata": {
    "collapsed": true
   },
   "outputs": [],
   "source": [
    "上面都是最基本的数值计算，如果做相对复杂的函数计算，我们需要引入一个math库\n",
    "引入的写法如下："
   ]
  },
  {
   "cell_type": "code",
   "execution_count": 83,
   "metadata": {
    "collapsed": false
   },
   "outputs": [
    {
     "data": {
      "text/plain": [
       "1.0"
      ]
     },
     "execution_count": 83,
     "metadata": {},
     "output_type": "execute_result"
    }
   ],
   "source": [
    "import math\n",
    "\n",
    "math.log(math.e)"
   ]
  },
  {
   "cell_type": "code",
   "execution_count": null,
   "metadata": {
    "collapsed": true
   },
   "outputs": [],
   "source": [
    "import 怎么理解，我举一个简单的例子大家就能明白\n",
    "至于math下的函数，大家多多练习"
   ]
  },
  {
   "cell_type": "markdown",
   "metadata": {},
   "source": [
    "### random 模块"
   ]
  },
  {
   "cell_type": "code",
   "execution_count": null,
   "metadata": {
    "collapsed": true
   },
   "outputs": [],
   "source": [
    "上面提到了imort引入，下面再多介绍一个模块：random，生成随机数"
   ]
  },
  {
   "cell_type": "code",
   "execution_count": 64,
   "metadata": {
    "collapsed": false
   },
   "outputs": [
    {
     "name": "stdout",
     "output_type": "stream",
     "text": [
      "316822\n",
      "197000\n",
      "0.8619826557182498\n"
     ]
    }
   ],
   "source": [
    "import random\n",
    "\n",
    "print(random.randint(0, 1000000))\n",
    "print(random.randrange(0, 1000000, 1000))\n",
    "print(random.random())"
   ]
  },
  {
   "cell_type": "markdown",
   "metadata": {},
   "source": [
    "#### 字符串数值类型转换"
   ]
  },
  {
   "cell_type": "code",
   "execution_count": 79,
   "metadata": {
    "collapsed": true
   },
   "outputs": [],
   "source": [
    "value = 100\n",
    "value = str(100)\n",
    "value = int(value)"
   ]
  },
  {
   "cell_type": "markdown",
   "metadata": {},
   "source": [
    "### 练习题：模拟用户注册"
   ]
  },
  {
   "cell_type": "code",
   "execution_count": 78,
   "metadata": {
    "collapsed": false,
    "scrolled": true
   },
   "outputs": [
    {
     "name": "stdout",
     "output_type": "stream",
     "text": [
      "输入昵称：drama\n",
      "输入手机号：18654672351\n",
      "drama 您好，验证码已发送到您尾号为 2351 的手机上，请注意查收\n",
      "您好，你的验证码为：772855\n",
      "请输入您的验证码：772855\n",
      "drama，恭喜您注册成功\n"
     ]
    }
   ],
   "source": [
    "import random\n",
    "\n",
    "nickname = input('输入昵称：')\n",
    "phone = input('输入手机号：')\n",
    "code = str(random.randint(0, 1000000)).rjust(6, '0')\n",
    "template_send = \"{} 您好，验证码已发送到您尾号为 {} 的手机上，请注意查收\"\n",
    "template_receive = \"您好，你的验证码为：{}\"\n",
    "print(template_send.format(nickname, phone[-4:]))\n",
    "print(template_receive.format(code))\n",
    "input_code = input('请输入您的验证码：')\n",
    "if code == input_code:\n",
    "    print('{}，恭喜您注册成功'.format(nickname))\n",
    "else:\n",
    "    print('验证码错误')"
   ]
  }
 ],
 "metadata": {
  "kernelspec": {
   "display_name": "Python 3",
   "language": "python",
   "name": "python3"
  },
  "language_info": {
   "codemirror_mode": {
    "name": "ipython",
    "version": 3
   },
   "file_extension": ".py",
   "mimetype": "text/x-python",
   "name": "python",
   "nbconvert_exporter": "python",
   "pygments_lexer": "ipython3",
   "version": "3.6.0"
  },
  "toc": {
   "nav_menu": {},
   "number_sections": true,
   "sideBar": true,
   "skip_h1_title": false,
   "toc_cell": false,
   "toc_position": {
    "height": "695px",
    "left": "0px",
    "right": "1670px",
    "top": "67px",
    "width": "239px"
   },
   "toc_section_display": "block",
   "toc_window_display": true
  }
 },
 "nbformat": 4,
 "nbformat_minor": 2
}
